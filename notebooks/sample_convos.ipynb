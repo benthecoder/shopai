{
 "cells": [
  {
   "cell_type": "code",
   "execution_count": 1,
   "metadata": {},
   "outputs": [],
   "source": [
    "import sys\n",
    "import logging\n",
    "\n",
    "sys.path.append(\"../src\")\n",
    "logging.basicConfig(level=logging.INFO)"
   ]
  },
  {
   "cell_type": "code",
   "execution_count": 16,
   "metadata": {},
   "outputs": [],
   "source": [
    "from user_props import create_class, create_object, create_client, get_object_properties\n",
    "from openai_utils import extract_insights\n",
    "from config import UUID\n",
    "\n",
    "def create_and_get_object():\n",
    "    client = create_client()\n",
    "    create_class(client)\n",
    "    create_object(client)\n",
    "    return client\n",
    "\n",
    "client = create_and_get_object()"
   ]
  },
  {
   "cell_type": "markdown",
   "metadata": {},
   "source": [
    "## sunglasses"
   ]
  },
  {
   "cell_type": "code",
   "execution_count": 18,
   "metadata": {},
   "outputs": [
    {
     "data": {
      "text/plain": [
       "['Property shopping_behavior assigned',\n",
       " 'Property brand_preference assigned',\n",
       " 'Property price_sensitivity assigned',\n",
       " 'Property product_category_preference assigned',\n",
       " 'Property face_shape assigned',\n",
       " 'Property usage_preference assigned',\n",
       " 'Property budget assigned',\n",
       " 'Property lens_color_preference assigned']"
      ]
     },
     "execution_count": 18,
     "metadata": {},
     "output_type": "execute_result"
    }
   ],
   "source": [
    "messages = []\n",
    "\n",
    "# User's initial request for sunglasses\n",
    "messages.append({\"role\": \"user\", \"content\": \"I would like to buy sunglasses. What do you recommend?\"})\n",
    "\n",
    "# Assistant's recommendation for sunglasses\n",
    "messages.append({\"role\": \"assistant\", \"content\": \"There are many types of sunglasses available, so it depends on your specific preferences and needs. Could you please provide more details about your preferences? For example, do you have a preferred style, budget, or any specific activities you'll be using them for?\"})\n",
    "\n",
    "# User's sunglasses preferences\n",
    "messages.append({\"role\": \"user\", \"content\": \"I have a round face, and I prefer a classic style with good UV protection. I plan to use them for both outdoor activities and everyday wear. My budget is around $100.\"})\n",
    "\n",
    "# Assistant's recommendation based on preferences\n",
    "messages.append({\"role\": \"assistant\", \"content\": \"Thank you for sharing your preferences. Based on your round face shape and the need for both outdoor and everyday use, I recommend the Ray-Ban RB2140 Original Wayfarer sunglasses. They have a classic style that suits round faces well and provide excellent UV protection. While the retail price is around $150, you can often find them on sale or through authorized retailers within your $100 budget.\"})\n",
    "\n",
    "# User's follow-up question\n",
    "messages.append({\"role\": \"user\", \"content\": \"That sounds great. Are there any specific lens colors you recommend for better UV protection and clarity?\"})\n",
    "\n",
    "# Assistant's response about lens colors\n",
    "messages.append({\"role\": \"assistant\", \"content\": \"For better UV protection and clarity, I recommend going for sunglasses with polarized lenses. Polarized lenses reduce glare from surfaces like water and roads, making them ideal for outdoor activities. You can consider getting the Ray-Ban RB2140 Original Wayfarer with polarized lenses for enhanced visual comfort and protection.\"})\n",
    "\n",
    "extract_insights(client, messages)"
   ]
  },
  {
   "cell_type": "code",
   "execution_count": 19,
   "metadata": {},
   "outputs": [
    {
     "data": {
      "text/plain": [
       "{'brand_preference': 'Ray-Ban',\n",
       " 'budget': '$100',\n",
       " 'face_shape': 'round',\n",
       " 'lens_color_preference': 'polarized',\n",
       " 'name': 'John Doe',\n",
       " 'price_sensitivity': 'moderate',\n",
       " 'product_category_preference': 'sunglasses',\n",
       " 'shopping_behavior': 'planned purchases',\n",
       " 'usage_preference': 'outdoor activities, everyday wear'}"
      ]
     },
     "execution_count": 19,
     "metadata": {},
     "output_type": "execute_result"
    }
   ],
   "source": [
    "get_object_properties(client, UUID)"
   ]
  },
  {
   "cell_type": "markdown",
   "metadata": {},
   "source": [
    "## Shoes"
   ]
  },
  {
   "cell_type": "code",
   "execution_count": 20,
   "metadata": {},
   "outputs": [
    {
     "data": {
      "text/plain": [
       "['Property running_style assigned',\n",
       " 'Property foot_conditions assigned',\n",
       " 'Property arch_type assigned',\n",
       " 'Property budget assigned',\n",
       " 'Property shoe_preference assigned',\n",
       " 'Property recommended_shoe assigned']"
      ]
     },
     "execution_count": 20,
     "metadata": {},
     "output_type": "execute_result"
    }
   ],
   "source": [
    "# Clear previous messages\n",
    "messages = []\n",
    "\n",
    "# User's initial request for running shoes\n",
    "messages.append({\"role\": \"user\", \"content\": \"I need a new pair of running shoes. What should I consider?\"})\n",
    "\n",
    "# Assistant's recommendation for running shoes\n",
    "messages.append({\"role\": \"assistant\", \"content\": \"Choosing the right running shoes depends on several factors. To provide the best recommendation, could you please share more details about your running style, any specific foot conditions or arch type, and your budget?\"})\n",
    "\n",
    "# User's running shoe preferences\n",
    "messages.append({\"role\": \"user\", \"content\": \"I have a neutral running style, and I prefer lightweight shoes with good cushioning. My budget is around $120.\"})\n",
    "\n",
    "# Assistant's recommendation based on preferences\n",
    "messages.append({\"role\": \"assistant\", \"content\": \"Thank you for the information. For a neutral running style and lightweight cushioned shoes within your budget, I recommend the Nike Air Zoom Pegasus. These shoes are known for their comfort and support for neutral runners. They often fall within or close to the $120 range.\"})\n",
    "\n",
    "# User's follow-up question\n",
    "messages.append({\"role\": \"user\", \"content\": \"That sounds good. Are there any specific models or versions of the Nike Air Zoom Pegasus that you recommend?\"})\n",
    "\n",
    "# Assistant's response about specific Nike Air Zoom Pegasus models\n",
    "messages.append({\"role\": \"assistant\", \"content\": \"Certainly! The Nike Air Zoom Pegasus series frequently receives updates. As of now, the Nike Air Zoom Pegasus 38 is the latest version, known for its improved cushioning and responsiveness. It's a solid choice for neutral runners. If you can find it within your budget, I'd recommend going for the latest version.\"})\n",
    "\n",
    "extract_insights(client, messages)"
   ]
  },
  {
   "cell_type": "code",
   "execution_count": 21,
   "metadata": {},
   "outputs": [
    {
     "data": {
      "text/plain": [
       "{'arch_type': 'unknown',\n",
       " 'brand_preference': 'Ray-Ban',\n",
       " 'budget': '$100',\n",
       " 'face_shape': 'round',\n",
       " 'foot_conditions': 'none',\n",
       " 'lens_color_preference': 'polarized',\n",
       " 'name': 'John Doe',\n",
       " 'price_sensitivity': 'moderate',\n",
       " 'product_category_preference': 'sunglasses',\n",
       " 'recommended_shoe': 'Nike Air Zoom Pegasus 38',\n",
       " 'running_style': 'neutral',\n",
       " 'shoe_preference': 'lightweight shoes with good cushioning',\n",
       " 'shopping_behavior': 'planned purchases',\n",
       " 'usage_preference': 'outdoor activities, everyday wear'}"
      ]
     },
     "execution_count": 21,
     "metadata": {},
     "output_type": "execute_result"
    }
   ],
   "source": [
    "get_object_properties(client, UUID)"
   ]
  },
  {
   "cell_type": "markdown",
   "metadata": {},
   "source": [
    "## Phone"
   ]
  },
  {
   "cell_type": "code",
   "execution_count": 22,
   "metadata": {},
   "outputs": [
    {
     "data": {
      "text/plain": [
       "['Property budget assigned',\n",
       " 'Property camera_preference assigned',\n",
       " 'Property battery_life_preference assigned',\n",
       " 'Property brand_preference assigned',\n",
       " 'Property recommended_smartphones assigned']"
      ]
     },
     "execution_count": 22,
     "metadata": {},
     "output_type": "execute_result"
    }
   ],
   "source": [
    "# Clear previous messages\n",
    "messages = []\n",
    "\n",
    "# User's initial request for a smartphone\n",
    "messages.append({\"role\": \"user\", \"content\": \"I'm looking to buy a new smartphone. Any suggestions?\"})\n",
    "\n",
    "# Assistant's recommendation for smartphones\n",
    "messages.append({\"role\": \"assistant\", \"content\": \"Choosing a smartphone depends on various factors, including your budget and the features you prioritize. Could you please specify your budget and any particular features or brands you prefer?\"})\n",
    "\n",
    "# User's smartphone preferences\n",
    "messages.append({\"role\": \"user\", \"content\": \"I have a mid-range budget, around $500, and I'm looking for a smartphone with a good camera and long battery life. I'm open to different brands.\"})\n",
    "\n",
    "# Assistant's recommendation based on preferences\n",
    "messages.append({\"role\": \"assistant\", \"content\": \"Thank you for sharing your preferences. For a mid-range budget with a focus on camera and battery life, you have several excellent options. I'd recommend considering the Google Pixel 5a. It offers great camera capabilities and impressive battery performance, making it a solid choice for your needs.\"})\n",
    "\n",
    "# User's follow-up question\n",
    "messages.append({\"role\": \"user\", \"content\": \"That's interesting. Are there any other mid-range smartphones with similar features that you would recommend for comparison?\"})\n",
    "\n",
    "# Assistant's response about alternative mid-range smartphones\n",
    "messages.append({\"role\": \"assistant\", \"content\": \"Certainly! Apart from the Google Pixel 5a, you might also want to consider the Samsung Galaxy A52. It offers a good camera system and long battery life, along with a vibrant display. Both the Pixel 5a and Galaxy A52 are strong contenders in the mid-range segment, so comparing their features and user reviews could help you make an informed decision.\"})\n",
    "\n",
    "extract_insights(client, messages)"
   ]
  },
  {
   "cell_type": "code",
   "execution_count": 23,
   "metadata": {},
   "outputs": [
    {
     "data": {
      "text/plain": [
       "{'arch_type': 'unknown',\n",
       " 'battery_life_preference': 'important',\n",
       " 'brand_preference': 'Ray-Ban',\n",
       " 'budget': '$100',\n",
       " 'camera_preference': 'important',\n",
       " 'face_shape': 'round',\n",
       " 'foot_conditions': 'none',\n",
       " 'lens_color_preference': 'polarized',\n",
       " 'name': 'John Doe',\n",
       " 'price_sensitivity': 'moderate',\n",
       " 'product_category_preference': 'sunglasses',\n",
       " 'recommended_shoe': 'Nike Air Zoom Pegasus 38',\n",
       " 'recommended_smartphones': 'Google Pixel 5a, Samsung Galaxy A52',\n",
       " 'running_style': 'neutral',\n",
       " 'shoe_preference': 'lightweight shoes with good cushioning',\n",
       " 'shopping_behavior': 'planned purchases',\n",
       " 'usage_preference': 'outdoor activities, everyday wear'}"
      ]
     },
     "execution_count": 23,
     "metadata": {},
     "output_type": "execute_result"
    }
   ],
   "source": [
    "get_object_properties(client, UUID)"
   ]
  },
  {
   "cell_type": "markdown",
   "metadata": {},
   "source": [
    "## Laptops"
   ]
  },
  {
   "cell_type": "code",
   "execution_count": 24,
   "metadata": {},
   "outputs": [
    {
     "data": {
      "text/plain": [
       "['Property occupation assigned',\n",
       " 'Property budget assigned',\n",
       " 'Property usage_preference assigned',\n",
       " 'Property processor_preference assigned',\n",
       " 'Property keyboard_preference assigned',\n",
       " 'Property recommended_laptops assigned']"
      ]
     },
     "execution_count": 24,
     "metadata": {},
     "output_type": "execute_result"
    }
   ],
   "source": [
    "# Clear previous messages\n",
    "messages = []\n",
    "\n",
    "# User's initial request for a laptop\n",
    "messages.append({\"role\": \"user\", \"content\": \"I'm in the market for a new laptop. What laptops do you recommend?\"})\n",
    "\n",
    "# Assistant's recommendation for laptops\n",
    "messages.append({\"role\": \"assistant\", \"content\": \"Choosing a laptop depends on your specific usage, such as programming and data analysis. Could you please provide more details about your requirements, including your budget and any specific preferences for operating systems or brands?\"})\n",
    "\n",
    "# User's laptop preferences\n",
    "messages.append({\"role\": \"user\", \"content\": \"I need a laptop primarily for programming and data analysis tasks. I prefer one with a fast processor and a comfortable keyboard. My budget is around $1,200.\"})\n",
    "\n",
    "# Assistant's recommendation based on preferences\n",
    "messages.append({\"role\": \"assistant\", \"content\": \"Thank you for sharing your requirements. Given your focus on programming and data analysis, I recommend the MacBook Pro with an M1 chip. It offers a fast processor and a comfortable keyboard, making it an excellent choice for your needs. While the base model is within your budget, you can consider upgrading for more storage or memory if required.\"})\n",
    "\n",
    "# User's follow-up question\n",
    "messages.append({\"role\": \"user\", \"content\": \"That's helpful. Are there any Windows laptops with similar specifications that you would recommend for comparison?\"})\n",
    "\n",
    "# Assistant's response about alternative Windows laptops\n",
    "messages.append({\"role\": \"assistant\", \"content\": \"Certainly! If you prefer a Windows laptop with similar specifications, you might want to consider the Dell XPS 13 or the Lenovo ThinkPad X1 Carbon. Both of these laptops offer powerful performance and comfortable keyboards, making them suitable for programming and data analysis. Be sure to compare their configurations and user reviews to make the best choice for your needs.\"})\n",
    "\n",
    "extract_insights(client, messages)\n"
   ]
  },
  {
   "cell_type": "code",
   "execution_count": 25,
   "metadata": {},
   "outputs": [
    {
     "data": {
      "text/plain": [
       "{'arch_type': 'unknown',\n",
       " 'battery_life_preference': 'important',\n",
       " 'brand_preference': 'Ray-Ban',\n",
       " 'budget': '$100',\n",
       " 'camera_preference': 'important',\n",
       " 'face_shape': 'round',\n",
       " 'foot_conditions': 'none',\n",
       " 'keyboard_preference': 'Comfortable keyboard',\n",
       " 'lens_color_preference': 'polarized',\n",
       " 'name': 'John Doe',\n",
       " 'occupation': 'programmer',\n",
       " 'price_sensitivity': 'moderate',\n",
       " 'processor_preference': 'Fast processor (M1 chip for MacBook Pro)',\n",
       " 'product_category_preference': 'sunglasses',\n",
       " 'recommended_laptops': 'MacBook Pro (M1 chip), Dell XPS 13, Lenovo ThinkPad X1 Carbon',\n",
       " 'recommended_shoe': 'Nike Air Zoom Pegasus 38',\n",
       " 'recommended_smartphones': 'Google Pixel 5a, Samsung Galaxy A52',\n",
       " 'running_style': 'neutral',\n",
       " 'shoe_preference': 'lightweight shoes with good cushioning',\n",
       " 'shopping_behavior': 'planned purchases',\n",
       " 'usage_preference': 'outdoor activities, everyday wear'}"
      ]
     },
     "execution_count": 25,
     "metadata": {},
     "output_type": "execute_result"
    }
   ],
   "source": [
    "get_object_properties(client, UUID)"
   ]
  },
  {
   "cell_type": "markdown",
   "metadata": {},
   "source": [
    "## Books"
   ]
  },
  {
   "cell_type": "code",
   "execution_count": 26,
   "metadata": {},
   "outputs": [
    {
     "data": {
      "text/plain": [
       "['Property preferred_genre assigned',\n",
       " 'Property previous_books assigned',\n",
       " 'Property recommended_books assigned']"
      ]
     },
     "execution_count": 26,
     "metadata": {},
     "output_type": "execute_result"
    }
   ],
   "source": [
    "# Clear previous messages\n",
    "messages = []\n",
    "\n",
    "# User's initial request for a book recommendation\n",
    "messages.append({\"role\": \"user\", \"content\": \"I'm looking for a good book to read. Any recommendations?\"})\n",
    "\n",
    "# Assistant's recommendation for books\n",
    "messages.append({\"role\": \"assistant\", \"content\": \"Of course! To provide a book recommendation, could you please share your preferred genre or any specific themes you enjoy in books?\"})\n",
    "\n",
    "# User's book preferences\n",
    "messages.append({\"role\": \"user\", \"content\": \"I enjoy science fiction and recently read 'Dune,' which I liked. I'm interested in exploring more science fiction novels.\"})\n",
    "\n",
    "# Assistant's recommendation based on preferences\n",
    "messages.append({\"role\": \"assistant\", \"content\": \"Great choice! Since you enjoyed 'Dune,' I'd recommend 'Foundation' by Isaac Asimov. It's a classic science fiction novel known for its epic scope and thought-provoking themes. It's the first book in a series, so if you like it, there's more to explore.\"})\n",
    "\n",
    "# User's follow-up question\n",
    "messages.append({\"role\": \"user\", \"content\": \"That sounds intriguing. Are there any other science fiction series or authors you would recommend in addition to 'Foundation'?\"})\n",
    "\n",
    "# Assistant's response about additional science fiction recommendations\n",
    "messages.append({\"role\": \"assistant\", \"content\": \"Certainly! If you're looking for more science fiction series, you might also enjoy 'The Expanse' series by James S.A. Corey. It's a gripping space opera with a richly developed universe. Additionally, consider exploring works by authors like Arthur C. Clarke, Philip K. Dick, and Ursula K. Le Guin, as they have contributed significantly to the genre with their thought-provoking stories.\"})\n",
    "\n",
    "\n",
    "extract_insights(client, messages)"
   ]
  },
  {
   "cell_type": "code",
   "execution_count": 27,
   "metadata": {},
   "outputs": [
    {
     "data": {
      "text/plain": [
       "{'arch_type': 'unknown',\n",
       " 'battery_life_preference': 'important',\n",
       " 'brand_preference': 'Ray-Ban',\n",
       " 'budget': '$100',\n",
       " 'camera_preference': 'important',\n",
       " 'face_shape': 'round',\n",
       " 'foot_conditions': 'none',\n",
       " 'keyboard_preference': 'Comfortable keyboard',\n",
       " 'lens_color_preference': 'polarized',\n",
       " 'name': 'John Doe',\n",
       " 'occupation': 'programmer',\n",
       " 'preferred_genre': 'science fiction',\n",
       " 'previous_books': '\"Dune\", \"Foundation\"',\n",
       " 'price_sensitivity': 'moderate',\n",
       " 'processor_preference': 'Fast processor (M1 chip for MacBook Pro)',\n",
       " 'product_category_preference': 'sunglasses',\n",
       " 'recommended_books': '\"Foundation\", \"The Expanse\", Arthur C. Clarke, Philip K. Dick, Ursula K. Le Guin',\n",
       " 'recommended_laptops': 'MacBook Pro (M1 chip), Dell XPS 13, Lenovo ThinkPad X1 Carbon',\n",
       " 'recommended_shoe': 'Nike Air Zoom Pegasus 38',\n",
       " 'recommended_smartphones': 'Google Pixel 5a, Samsung Galaxy A52',\n",
       " 'running_style': 'neutral',\n",
       " 'shoe_preference': 'lightweight shoes with good cushioning',\n",
       " 'shopping_behavior': 'planned purchases',\n",
       " 'usage_preference': 'outdoor activities, everyday wear'}"
      ]
     },
     "execution_count": 27,
     "metadata": {},
     "output_type": "execute_result"
    }
   ],
   "source": [
    "get_object_properties(client, UUID)"
   ]
  }
 ],
 "metadata": {
  "kernelspec": {
   "display_name": "openai",
   "language": "python",
   "name": "python3"
  },
  "language_info": {
   "codemirror_mode": {
    "name": "ipython",
    "version": 3
   },
   "file_extension": ".py",
   "mimetype": "text/x-python",
   "name": "python",
   "nbconvert_exporter": "python",
   "pygments_lexer": "ipython3",
   "version": "3.10.4"
  },
  "orig_nbformat": 4
 },
 "nbformat": 4,
 "nbformat_minor": 2
}
