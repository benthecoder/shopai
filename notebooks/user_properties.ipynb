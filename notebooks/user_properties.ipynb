{
 "cells": [
  {
   "cell_type": "code",
   "execution_count": 3,
   "metadata": {},
   "outputs": [],
   "source": [
    "import sys\n",
    "\n",
    "sys.path.append(\"../src\")"
   ]
  },
  {
   "cell_type": "code",
   "execution_count": 4,
   "metadata": {},
   "outputs": [],
   "source": [
    "from user_props import *\n",
    "from config import *\n",
    "\n",
    "def create_and_get_object():\n",
    "    client = create_client()\n",
    "    create_class(client)\n",
    "    create_object(client)\n",
    "    return client\n",
    "\n",
    "client = create_and_get_object()"
   ]
  },
  {
   "cell_type": "code",
   "execution_count": 2,
   "metadata": {},
   "outputs": [
    {
     "data": {
      "text/plain": [
       "['name', 'age_range', 'gender', 'location', 'interests']"
      ]
     },
     "execution_count": 2,
     "metadata": {},
     "output_type": "execute_result"
    }
   ],
   "source": [
    "get_class_properties(client) # names of properties"
   ]
  },
  {
   "cell_type": "code",
   "execution_count": 3,
   "metadata": {},
   "outputs": [
    {
     "data": {
      "text/plain": [
       "[{'name': 'name', 'description': 'Name of the user.', 'datatype': ['text']},\n",
       " {'name': 'age_range',\n",
       "  'description': 'Inferred age range group from conversation.',\n",
       "  'datatype': ['text']},\n",
       " {'name': 'gender',\n",
       "  'description': 'Hints about gender from statements.',\n",
       "  'datatype': ['text']},\n",
       " {'name': 'location',\n",
       "  'description': 'Hints about location from statements.',\n",
       "  'datatype': ['text']},\n",
       " {'name': 'interests',\n",
       "  'description': 'Hints about interests from statements.',\n",
       "  'datatype': ['text']}]"
      ]
     },
     "execution_count": 3,
     "metadata": {},
     "output_type": "execute_result"
    }
   ],
   "source": [
    "get_class_properties(client, detail=True) # properties with description"
   ]
  },
  {
   "cell_type": "code",
   "execution_count": 4,
   "metadata": {},
   "outputs": [
    {
     "data": {
      "text/plain": [
       "{'name': 'John Doe'}"
      ]
     },
     "execution_count": 4,
     "metadata": {},
     "output_type": "execute_result"
    }
   ],
   "source": [
    "get_object_properties(client, UUID) # current properties with values"
   ]
  },
  {
   "cell_type": "code",
   "execution_count": 5,
   "metadata": {},
   "outputs": [
    {
     "ename": "Exception",
     "evalue": "Property test does not exist, use create_property to create it first",
     "output_type": "error",
     "traceback": [
      "\u001b[0;31m---------------------------------------------------------------------------\u001b[0m",
      "\u001b[0;31mException\u001b[0m                                 Traceback (most recent call last)",
      "Cell \u001b[0;32mIn[5], line 5\u001b[0m\n\u001b[1;32m      1\u001b[0m data_object \u001b[39m=\u001b[39m {\n\u001b[1;32m      2\u001b[0m     \u001b[39m\"\u001b[39m\u001b[39mtest\u001b[39m\u001b[39m\"\u001b[39m : \u001b[39m\"\u001b[39m\u001b[39mtest\u001b[39m\u001b[39m\"\u001b[39m\n\u001b[1;32m      3\u001b[0m }\n\u001b[0;32m----> 5\u001b[0m update_object(client, data_object)\n",
      "File \u001b[0;32m~/fun/chat-w-memory/user_db.py:161\u001b[0m, in \u001b[0;36mupdate_object\u001b[0;34m(client, data_object)\u001b[0m\n\u001b[1;32m    159\u001b[0m \u001b[39mfor\u001b[39;00m key \u001b[39min\u001b[39;00m data_object\u001b[39m.\u001b[39mkeys():\n\u001b[1;32m    160\u001b[0m     \u001b[39mif\u001b[39;00m key \u001b[39mnot\u001b[39;00m \u001b[39min\u001b[39;00m get_class_properties(client):\n\u001b[0;32m--> 161\u001b[0m         \u001b[39mraise\u001b[39;00m \u001b[39mException\u001b[39;00m(\n\u001b[1;32m    162\u001b[0m             \u001b[39mf\u001b[39m\u001b[39m\"\u001b[39m\u001b[39mProperty \u001b[39m\u001b[39m{\u001b[39;00mkey\u001b[39m}\u001b[39;00m\u001b[39m does not exist, use create_property to create it first\u001b[39m\u001b[39m\"\u001b[39m\n\u001b[1;32m    163\u001b[0m         )\n\u001b[1;32m    165\u001b[0m props \u001b[39m=\u001b[39m get_object_properties(client, UUID)\n\u001b[1;32m    166\u001b[0m data_object\u001b[39m.\u001b[39mupdate(props)\n",
      "\u001b[0;31mException\u001b[0m: Property test does not exist, use create_property to create it first"
     ]
    }
   ],
   "source": [
    "data_object = {\n",
    "    \"test\" : \"test\"\n",
    "}\n",
    "\n",
    "update_object(client, data_object)"
   ]
  },
  {
   "cell_type": "code",
   "execution_count": 6,
   "metadata": {},
   "outputs": [
    {
     "data": {
      "text/plain": [
       "'Property test created'"
      ]
     },
     "execution_count": 6,
     "metadata": {},
     "output_type": "execute_result"
    }
   ],
   "source": [
    "prop = {\n",
    "        \"name\": \"test\",\n",
    "        \"description\": \"test.\",\n",
    "        \"dataType\": [\"string\"],\n",
    "    }\n",
    "\n",
    "create_property(client, prop)"
   ]
  },
  {
   "cell_type": "code",
   "execution_count": 7,
   "metadata": {},
   "outputs": [
    {
     "data": {
      "text/plain": [
       "['name', 'age_range', 'gender', 'location', 'interests', 'test']"
      ]
     },
     "execution_count": 7,
     "metadata": {},
     "output_type": "execute_result"
    }
   ],
   "source": [
    "get_class_properties(client) # names of properties"
   ]
  },
  {
   "cell_type": "code",
   "execution_count": 8,
   "metadata": {},
   "outputs": [
    {
     "data": {
      "text/plain": [
       "'Property test assigned'"
      ]
     },
     "execution_count": 8,
     "metadata": {},
     "output_type": "execute_result"
    }
   ],
   "source": [
    "data_object = {\n",
    "    \"test\" : \"test\"\n",
    "}\n",
    "\n",
    "update_object(client, data_object)"
   ]
  },
  {
   "cell_type": "code",
   "execution_count": 9,
   "metadata": {},
   "outputs": [
    {
     "data": {
      "text/plain": [
       "{'name': 'John Doe', 'test': 'test'}"
      ]
     },
     "execution_count": 9,
     "metadata": {},
     "output_type": "execute_result"
    }
   ],
   "source": [
    "get_object_properties(client, UUID)"
   ]
  }
 ],
 "metadata": {
  "kernelspec": {
   "display_name": "openai",
   "language": "python",
   "name": "python3"
  },
  "language_info": {
   "codemirror_mode": {
    "name": "ipython",
    "version": 3
   },
   "file_extension": ".py",
   "mimetype": "text/x-python",
   "name": "python",
   "nbconvert_exporter": "python",
   "pygments_lexer": "ipython3",
   "version": "3.10.4"
  },
  "orig_nbformat": 4
 },
 "nbformat": 4,
 "nbformat_minor": 2
}
